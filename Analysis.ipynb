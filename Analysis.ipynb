{
 "cells": [
  {
   "cell_type": "code",
   "execution_count": null,
   "metadata": {},
   "outputs": [],
   "source": [
    "# Importing relevant libraries\n",
    "from Kanha_Batra import *"
   ]
  },
  {
   "cell_type": "code",
   "execution_count": null,
   "metadata": {},
   "outputs": [],
   "source": [
    "df_full = pd.read_csv('Full_Dataset.csv')\n",
    "df_toilets = pd.read_csv('public_restrooms_sf.csv')\n",
    "df_complete = pd.read_csv('Complete_Geocoded_Homeless_Police_Reports.csv')"
   ]
  },
  {
   "cell_type": "markdown",
   "metadata": {},
   "source": [
    "### Histogram of Instances of Homeless Presence along with locations of Public Restrooms"
   ]
  },
  {
   "cell_type": "code",
   "execution_count": null,
   "metadata": {
    "scrolled": true
   },
   "outputs": [],
   "source": [
    "plothist_rest(df_full, df_toilets, False)"
   ]
  },
  {
   "cell_type": "markdown",
   "metadata": {},
   "source": [
    "### Plot of Colorbar"
   ]
  },
  {
   "cell_type": "code",
   "execution_count": null,
   "metadata": {
    "scrolled": true
   },
   "outputs": [],
   "source": [
    "create_colorbar(df_toilets, False)"
   ]
  },
  {
   "cell_type": "code",
   "execution_count": null,
   "metadata": {},
   "outputs": [],
   "source": [
    "#Import relevant libraries and functions\n",
    "from Tanish_Jain import *"
   ]
  },
  {
   "cell_type": "code",
   "execution_count": null,
   "metadata": {},
   "outputs": [],
   "source": [
    "#Load the datasets\n",
    "project_data = pd.read_csv('Full Dataset.csv')\n",
    "toilet_data = pd.read_csv('public_restrooms_sf.csv')\n",
    "crime_data = pd.read_csv('Police Dataset2.csv')"
   ]
  },
  {
   "cell_type": "code",
   "execution_count": null,
   "metadata": {},
   "outputs": [],
   "source": [
    "homeless_reports = project_data.groupby('Zip')['Latitude'].count().to_frame()\n",
    "toilet_data = toilet_data.groupby('zip')['location'].count().to_frame()\n",
    "\n",
    "num_toilets = []\n",
    "\n",
    "for zipcode in list(homeless_reports.index):   \n",
    "    try:\n",
    "        num_toilets.append(toilet_data.loc[int(zipcode)][0])\n",
    "    except:\n",
    "        num_toilets.append(0)\n",
    "\n",
    "homeless_reports = homeless_reports.rename(columns={'Latitude':'Incident Count'})\n",
    "homeless_reports.insert(len(homeless_reports.columns), \"Toilet Count\", num_toilets, True)\n",
    "\n",
    "#Create correlation matrix for each variable (occurence by zip code)\n",
    "create_corr_mat(homeless_reports)"
   ]
  },
  {
   "cell_type": "code",
   "execution_count": null,
   "metadata": {},
   "outputs": [],
   "source": [
    "other_reports = project_data[project_data['Description'] != 'Human or Animal Waste']\n",
    "poop_reports = project_data[project_data['Description'] == 'Human or Animal Waste']\n",
    "\n",
    "other_reports = other_reports.groupby('Zip').count()\n",
    "poop_reports = poop_reports.groupby('Zip').count()\n",
    "other_reports.insert(0, \"Waste Reports\", poop_reports.Category, True)\n",
    "all_reports = other_reports[['Waste Reports','Date']]\n",
    "all_reports = all_reports.rename(columns={'Date':'Homeless Reports'})\n",
    "\n",
    "#Create correlation matrix for each variable (occurence by zip code)\n",
    "create_corr_mat(all_reports)"
   ]
  },
  {
   "cell_type": "code",
   "execution_count": null,
   "metadata": {},
   "outputs": [],
   "source": [
    "#Split the dataset by the category of report (variable) (occurence by zip code)\n",
    "cat0 = project_data[project_data['Description'] == 'Human or Animal Waste'].groupby('Zip').count()\n",
    "cat1 = project_data[project_data['Description'] == 'CIVIL SIDEWALKS, CITATION'].groupby('Zip').count()\n",
    "cat2 = project_data[project_data['Description'] == 'Encampment Reports'].groupby('Zip').count()\n",
    "cat3 = project_data[project_data['Description'] == 'Encampment items'].groupby('Zip').count()\n",
    "cat4 = project_data[project_data['Description'] == 'Individual Concerns'].groupby('Zip').count()\n",
    "cat5 = project_data[project_data['Description'] == 'LODGING WITHOUT PERMISSION'].groupby('Zip').count()\n",
    "cat6 = project_data[project_data['Description'] == 'Loitering'].groupby('Zip').count()\n",
    "cat7 = project_data[project_data['Description'] == 'OBSTRUCTING HEALTH FACILITY, PLACE OF WORSHIP, OR SCHOOL'].groupby('Zip').count()\n",
    "cat8 = project_data[project_data['Description'] == 'Other'].groupby('Zip').count()\n",
    "\n",
    "#Create dataset with each variable (occurence by zip code)\n",
    "cat8.insert(0, 'Waste Reports', cat0.Category, True)\n",
    "cat8.insert(0, 'Civil Sidewalks Citation', cat1.Category, True)\n",
    "cat8.insert(0, 'Encampment Reports', cat2.Category, True)\n",
    "cat8.insert(0, 'Encampment items', cat3.Category, True)\n",
    "cat8.insert(0, 'Individual Concerns', cat4.Category, True)\n",
    "cat8.insert(0, 'Lodging without Permission', cat5.Category, True)\n",
    "cat8.insert(0, 'Loitering', cat6.Category, True)\n",
    "cat8.insert(0, 'Obstruction', cat7.Category, True)\n",
    "cat8 = cat8.rename(columns={'Category':'Other'})\n",
    "all_reports = cat8[['Waste Reports','Civil Sidewalks Citation','Encampment Reports','Encampment items','Individual Concerns','Lodging without Permission','Loitering','Obstruction','Other']]\n",
    "\n",
    "#Create correlation matrix for each variable (occurence by zip code)\n",
    "create_corr_mat(all_reports, 5)\n"
   ]
  },
  {
   "cell_type": "code",
   "execution_count": null,
   "metadata": {},
   "outputs": [],
   "source": [
    "crime_reports = crime_data.groupby('Zip').count()\n",
    "homeless_reports = project_data.groupby('Zip').count()\n",
    "crime_reports = crime_reports.rename(columns={'Category':'Crime Reports'})\n",
    "crime_reports.insert(0, 'Homeless Reports', homeless_reports.Category, True)\n",
    "crime_reports = crime_reports[['Homeless Reports','Crime Reports']]\n",
    "\n",
    "#Create correlation matrix for each variable (occurence by zip code)\n",
    "create_corr_mat(crime_reports)\n"
   ]
  },
  {
   "cell_type": "code",
   "execution_count": null,
   "metadata": {},
   "outputs": [],
   "source": [
    "#Data\n",
    "years = range(2005,2020,2)\n",
    "population = [5404, 5703, 5823, 5669, 7008, 6775, 6858, 8011]\n",
    "\n",
    "x = np.arange(len(years))   #labels for x axis\n",
    "width = 0.8                 #width of the bars\n",
    "fig, ax = plt.subplots(facecolor='black', figsize=(5,10))\n",
    "rects1 = ax.bar(x - width / 2, population, width, color='#37C9EF', alpha=.8)\n",
    "print(type(rects1))\n",
    "ax.set_ylabel('Homeless Count', size=30)\n",
    "ax.set_xlabel('Years', size=30)\n",
    "ax.set_xticks(x)\n",
    "ax.xaxis.label.set_color('white')\n",
    "ax.yaxis.label.set_color('white')\n",
    "ax.tick_params(axis='y', labelcolor='white')\n",
    "ax.set_yticklabels([])\n",
    "ax.set_xticklabels([])\n",
    "ax.set_facecolor('black')\n",
    "\n",
    "autolabel(rects1, ax)"
   ]
  },
  {
   "cell_type": "code",
   "execution_count": 1,
   "metadata": {},
   "outputs": [
    {
     "data": {
      "text/plain": [
       "<Figure size 640x480 with 1 Axes>"
      ]
     },
     "metadata": {},
     "output_type": "display_data"
    },
    {
     "data": {
      "text/plain": [
       "<Figure size 640x480 with 1 Axes>"
      ]
     },
     "metadata": {},
     "output_type": "display_data"
    },
    {
     "data": {
      "text/plain": [
       "<Figure size 640x480 with 1 Axes>"
      ]
     },
     "metadata": {},
     "output_type": "display_data"
    },
    {
     "data": {
      "text/plain": [
       "<Figure size 640x480 with 1 Axes>"
      ]
     },
     "metadata": {},
     "output_type": "display_data"
    },
    {
     "data": {
      "text/plain": [
       "<Figure size 640x480 with 1 Axes>"
      ]
     },
     "metadata": {},
     "output_type": "display_data"
    },
    {
     "data": {
      "text/plain": [
       "<Figure size 640x480 with 1 Axes>"
      ]
     },
     "metadata": {},
     "output_type": "display_data"
    }
   ],
   "source": [
    "from Bryce_Smith import *"
   ]
  },
  {
   "cell_type": "code",
   "execution_count": null,
   "metadata": {},
   "outputs": [],
   "source": [
    "# file 1\n",
    "homeless_data_cleaner(\"Police_Department_Incident_Reports__2018_to_Present.csv\",\n",
    "                      ['Incident Date', 'Incident Description','Incident Subcategory', 'point'],\n",
    "                      ['Lodging Without Permission', 'Civil Sidewalks, Citation', 'Civil Sidewalks, Warning'\n",
    "                          ,'Loitering', 'Obstructing Health Facility, Place of Worship, or School',\n",
    "                       'Civil Sidewalks, Violation', 'Lodging in Park', 'Civil Sidewalks, Booking'],\n",
    "                      keep_other_data=True)\n",
    "\n",
    "# file 2\n",
    "# columns in this file are uppercase:\n",
    "colum = ['Lodging Without Permission', 'Civil Sidewalks, Citation', 'Civil Sidewalks, Warning'\n",
    "                          ,'Loitering', 'Obstructing Health Facility, Place of Worship, or School',\n",
    "                       'Civil Sidewalks, Violation', 'Lodging in Park', 'Civil Sidewalks, Booking']\n",
    "for i in range(len(colum)): colum[i] = colum[i].upper()\n",
    "homeless_data_cleaner(\"Police_Department_Incident_Reports__Historical_2003_to_May_2018.csv\",\n",
    "                      ['Date', 'Category', 'Descript', 'Location'], colum,\n",
    "                      keep_other_data=True)\n",
    "\n",
    "# file 3\n",
    "homeless_data_cleaner('311_Cases.csv', ['Opened','Category', 'Request Type', 'Point'],\n",
    "                      ['Encampments', 'Human or Animal Waste', 'Homeless Concerns'])"
   ]
  },
  {
   "cell_type": "code",
   "execution_count": null,
   "metadata": {},
   "outputs": [],
   "source": [
    "######################################## Files to Combine #########################################################\n",
    "# combine all files in the list\n",
    "all_homeless_filenames = ['Geocoded_Cleaned_311_Cases.csv',\n",
    "                          'Geocoded_Cleaned_Police_Department_Incident_Reports__2018_to_Present.csv',\n",
    "                          'Geocoded_Cleaned_Police_Department_Incident_Reports__Historical_2003_to_May_2018.csv']\n",
    "not_homeless_police_reports = ['Geocoded_Cleaned_Not_Homeless_Police_Department_Incident_Reports__2018_to_Present.csv',\n",
    "                          'Geocoded_Cleaned_Not_Homeless_Police_Department_Incident_Reports__Historical_2003_to_May_2018.csv']\n",
    "homeless_police_reports = ['Geocoded_Cleaned_Police_Department_Incident_Reports__Historical_2003_to_May_2018.csv',\n",
    "                           'Geocoded_Cleaned_Police_Department_Incident_Reports__2018_to_Present.csv']\n",
    "\n",
    "# file_combiner(homeless_police_reports, 'Complete_Geocoded_Homeless_Police_Reports.csv')\n",
    "# file_combiner(not_homeless_police_reports, 'Complete_Geocoded_Non_homeless_Police_reports.csv')\n",
    "# file_combiner(all_homeless_filenames, 'Complete_Geocoded_Homeless_Related_Data.csv')\n",
    "\n",
    "\n",
    "############################# Add Latitude Longitude and Zipcodes ################################################\n",
    "# add zip codes, latitude, and longitude\n",
    "# add_ll('Cleaned_Police_Department_Incident_Reports__2018_to_Present.csv')\n",
    "# add_ll('Cleaned_Not_Homeless_Police_Department_Incident_Reports__Historical_2003_to_May_2018.csv')\n",
    "# add_ll('Cleaned_311_Cases.csv')\n"
   ]
  },
  {
   "cell_type": "code",
   "execution_count": 2,
   "metadata": {},
   "outputs": [
    {
     "data": {
      "image/png": "[encoded data removed]",
      "text/plain": [
       "<Figure size 432x288 with 1 Axes>"
      ]
     },
     "metadata": {},
     "output_type": "display_data"
    },
    {
     "data": {
      "image/png": "[encoded data removed]",
      "text/plain": [
       "<Figure size 432x288 with 1 Axes>"
      ]
     },
     "metadata": {},
     "output_type": "display_data"
    },
    {
     "data": {
      "image/png": "[encoded data removed]",
      "text/plain": [
       "<Figure size 432x288 with 1 Axes>"
      ]
     },
     "metadata": {},
     "output_type": "display_data"
    },
    {
     "data": {
      "image/png": "[encoded data removed]",
      "text/plain": [
       "<Figure size 432x288 with 1 Axes>"
      ]
     },
     "metadata": {},
     "output_type": "display_data"
    },
    {
     "data": {
      "image/png": "[encoded data removed]",
      "text/plain": [
       "<Figure size 432x288 with 1 Axes>"
      ]
     },
     "metadata": {},
     "output_type": "display_data"
    },
    {
     "data": {
      "image/png": "[encoded data removed]",
      "text/plain": [
       "<Figure size 432x288 with 1 Axes>"
      ]
     },
     "metadata": {},
     "output_type": "display_data"
    }
   ],
   "source": [
    "\n",
    "######################### Function Caller ########################################\n",
    "# Get the % of all crime that is homeless related\n",
    "bar_plot(['Complete_Geocoded_Non_homeless_Police_reports.csv',\n",
    "          'Complete_Geocoded_Homeless_Police_Reports.csv'], ['Date', 'Zip'])\n",
    "\n",
    "# Get the side by side bar graphs of Homeless reports \n",
    "bar_plot(['Complete_Geocoded_Non_homeless_Police_reports.csv',\n",
    "          'Complete_Geocoded_Homeless_Related_Data.csv'], ['Date', 'Zip'])"
   ]
  },
  {
   "cell_type": "code",
   "execution_count": null,
   "metadata": {},
   "outputs": [],
   "source": []
  }
 ],
 "metadata": {
  "kernelspec": {
   "display_name": "Python 3",
   "language": "python",
   "name": "python3"
  },
  "language_info": {
   "codemirror_mode": {
    "name": "ipython",
    "version": 3
   },
   "file_extension": ".py",
   "mimetype": "text/x-python",
   "name": "python",
   "nbconvert_exporter": "python",
   "pygments_lexer": "ipython3",
   "version": "3.7.4"
  }
 },
 "nbformat": 4,
 "nbformat_minor": 2
}
